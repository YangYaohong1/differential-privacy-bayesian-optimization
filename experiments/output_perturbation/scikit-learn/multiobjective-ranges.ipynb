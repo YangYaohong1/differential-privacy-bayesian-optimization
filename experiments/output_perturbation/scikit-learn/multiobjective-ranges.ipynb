{
 "cells": [
  {
   "cell_type": "markdown",
   "metadata": {},
   "source": [
    "# Learning the Privacy accuracy trade-off"
   ]
  },
  {
   "cell_type": "code",
   "execution_count": 1,
   "metadata": {
    "ExecuteTime": {
     "end_time": "2025-01-15T10:38:48.064302Z",
     "start_time": "2025-01-15T10:38:47.909301Z"
    }
   },
   "outputs": [
    {
     "ename": "AttributeError",
     "evalue": "module 'matplotlib.cm' has no attribute 'register_cmap'",
     "output_type": "error",
     "traceback": [
      "\u001B[0;31m---------------------------------------------------------------------------\u001B[0m",
      "\u001B[0;31mAttributeError\u001B[0m                            Traceback (most recent call last)",
      "Cell \u001B[0;32mIn[1], line 3\u001B[0m\n\u001B[1;32m      1\u001B[0m get_ipython()\u001B[38;5;241m.\u001B[39mrun_line_magic(\u001B[38;5;124m'\u001B[39m\u001B[38;5;124mmatplotlib\u001B[39m\u001B[38;5;124m'\u001B[39m, \u001B[38;5;124m'\u001B[39m\u001B[38;5;124minline\u001B[39m\u001B[38;5;124m'\u001B[39m)\n\u001B[1;32m      2\u001B[0m \u001B[38;5;28;01mimport\u001B[39;00m\u001B[38;5;250m \u001B[39m\u001B[38;5;21;01mmatplotlib\u001B[39;00m\u001B[38;5;21;01m.\u001B[39;00m\u001B[38;5;21;01mpyplot\u001B[39;00m\u001B[38;5;250m \u001B[39m\u001B[38;5;28;01mas\u001B[39;00m\u001B[38;5;250m \u001B[39m\u001B[38;5;21;01mplt\u001B[39;00m\n\u001B[0;32m----> 3\u001B[0m \u001B[38;5;28;01mimport\u001B[39;00m\u001B[38;5;250m \u001B[39m\u001B[38;5;21;01mseaborn\u001B[39;00m\u001B[38;5;250m \u001B[39m\u001B[38;5;28;01mas\u001B[39;00m\u001B[38;5;250m \u001B[39m\u001B[38;5;21;01msns\u001B[39;00m\n\u001B[1;32m      4\u001B[0m sns\u001B[38;5;241m.\u001B[39mset_context(\u001B[38;5;124m'\u001B[39m\u001B[38;5;124mpaper\u001B[39m\u001B[38;5;124m'\u001B[39m)\n\u001B[1;32m      5\u001B[0m sns\u001B[38;5;241m.\u001B[39mset_style(\u001B[38;5;124m'\u001B[39m\u001B[38;5;124mticks\u001B[39m\u001B[38;5;124m'\u001B[39m)\n",
      "File \u001B[0;32m~/PycharmProjects/user_modeling/myenv/lib/python3.11/site-packages/seaborn/__init__.py:14\u001B[0m\n\u001B[1;32m     12\u001B[0m \u001B[38;5;28;01mfrom\u001B[39;00m\u001B[38;5;250m \u001B[39m\u001B[38;5;21;01m.\u001B[39;00m\u001B[38;5;21;01mdistributions\u001B[39;00m\u001B[38;5;250m \u001B[39m\u001B[38;5;28;01mimport\u001B[39;00m \u001B[38;5;241m*\u001B[39m\n\u001B[1;32m     13\u001B[0m \u001B[38;5;28;01mfrom\u001B[39;00m\u001B[38;5;250m \u001B[39m\u001B[38;5;21;01m.\u001B[39;00m\u001B[38;5;21;01mtimeseries\u001B[39;00m\u001B[38;5;250m \u001B[39m\u001B[38;5;28;01mimport\u001B[39;00m \u001B[38;5;241m*\u001B[39m\n\u001B[0;32m---> 14\u001B[0m \u001B[38;5;28;01mfrom\u001B[39;00m\u001B[38;5;250m \u001B[39m\u001B[38;5;21;01m.\u001B[39;00m\u001B[38;5;21;01mmatrix\u001B[39;00m\u001B[38;5;250m \u001B[39m\u001B[38;5;28;01mimport\u001B[39;00m \u001B[38;5;241m*\u001B[39m\n\u001B[1;32m     15\u001B[0m \u001B[38;5;28;01mfrom\u001B[39;00m\u001B[38;5;250m \u001B[39m\u001B[38;5;21;01m.\u001B[39;00m\u001B[38;5;21;01mmiscplot\u001B[39;00m\u001B[38;5;250m \u001B[39m\u001B[38;5;28;01mimport\u001B[39;00m \u001B[38;5;241m*\u001B[39m\n\u001B[1;32m     16\u001B[0m \u001B[38;5;28;01mfrom\u001B[39;00m\u001B[38;5;250m \u001B[39m\u001B[38;5;21;01m.\u001B[39;00m\u001B[38;5;21;01maxisgrid\u001B[39;00m\u001B[38;5;250m \u001B[39m\u001B[38;5;28;01mimport\u001B[39;00m \u001B[38;5;241m*\u001B[39m\n",
      "File \u001B[0;32m~/PycharmProjects/user_modeling/myenv/lib/python3.11/site-packages/seaborn/matrix.py:14\u001B[0m\n\u001B[1;32m     11\u001B[0m \u001B[38;5;28;01mimport\u001B[39;00m\u001B[38;5;250m \u001B[39m\u001B[38;5;21;01mpandas\u001B[39;00m\u001B[38;5;250m \u001B[39m\u001B[38;5;28;01mas\u001B[39;00m\u001B[38;5;250m \u001B[39m\u001B[38;5;21;01mpd\u001B[39;00m\n\u001B[1;32m     12\u001B[0m \u001B[38;5;28;01mfrom\u001B[39;00m\u001B[38;5;250m \u001B[39m\u001B[38;5;21;01mscipy\u001B[39;00m\u001B[38;5;21;01m.\u001B[39;00m\u001B[38;5;21;01mcluster\u001B[39;00m\u001B[38;5;250m \u001B[39m\u001B[38;5;28;01mimport\u001B[39;00m hierarchy\n\u001B[0;32m---> 14\u001B[0m \u001B[38;5;28;01mfrom\u001B[39;00m\u001B[38;5;250m \u001B[39m\u001B[38;5;21;01m.\u001B[39;00m\u001B[38;5;250m \u001B[39m\u001B[38;5;28;01mimport\u001B[39;00m cm\n\u001B[1;32m     15\u001B[0m \u001B[38;5;28;01mfrom\u001B[39;00m\u001B[38;5;250m \u001B[39m\u001B[38;5;21;01m.\u001B[39;00m\u001B[38;5;21;01maxisgrid\u001B[39;00m\u001B[38;5;250m \u001B[39m\u001B[38;5;28;01mimport\u001B[39;00m Grid\n\u001B[1;32m     16\u001B[0m \u001B[38;5;28;01mfrom\u001B[39;00m\u001B[38;5;250m \u001B[39m\u001B[38;5;21;01m.\u001B[39;00m\u001B[38;5;21;01mutils\u001B[39;00m\u001B[38;5;250m \u001B[39m\u001B[38;5;28;01mimport\u001B[39;00m (despine, axis_ticklabels_overlap, relative_luminance,\n\u001B[1;32m     17\u001B[0m                     to_utf8)\n",
      "File \u001B[0;32m~/PycharmProjects/user_modeling/myenv/lib/python3.11/site-packages/seaborn/cm.py:1055\u001B[0m\n\u001B[1;32m   1052\u001B[0m _cmap_r \u001B[38;5;241m=\u001B[39m colors\u001B[38;5;241m.\u001B[39mListedColormap(_lut[::\u001B[38;5;241m-\u001B[39m\u001B[38;5;241m1\u001B[39m], _name \u001B[38;5;241m+\u001B[39m \u001B[38;5;124m\"\u001B[39m\u001B[38;5;124m_r\u001B[39m\u001B[38;5;124m\"\u001B[39m)  \n\u001B[1;32m   1053\u001B[0m \u001B[38;5;28mlocals\u001B[39m()[_name \u001B[38;5;241m+\u001B[39m \u001B[38;5;124m\"\u001B[39m\u001B[38;5;124m_r\u001B[39m\u001B[38;5;124m\"\u001B[39m] \u001B[38;5;241m=\u001B[39m _cmap_r\n\u001B[0;32m-> 1055\u001B[0m \u001B[43mmpl_cm\u001B[49m\u001B[38;5;241;43m.\u001B[39;49m\u001B[43mregister_cmap\u001B[49m(_name, _cmap)\n\u001B[1;32m   1056\u001B[0m mpl_cm\u001B[38;5;241m.\u001B[39mregister_cmap(_name \u001B[38;5;241m+\u001B[39m \u001B[38;5;124m\"\u001B[39m\u001B[38;5;124m_r\u001B[39m\u001B[38;5;124m\"\u001B[39m, _cmap_r)\n",
      "\u001B[0;31mAttributeError\u001B[0m: module 'matplotlib.cm' has no attribute 'register_cmap'"
     ]
    }
   ],
   "source": [
    "%matplotlib inline\n",
    "import matplotlib.pyplot as plt\n",
    "import seaborn as sns\n",
    "sns.set_context('paper')\n",
    "sns.set_style('ticks')\n",
    "sns.set_palette('colorblind')"
   ]
  },
  {
   "cell_type": "code",
   "execution_count": 2,
   "metadata": {
    "ExecuteTime": {
     "end_time": "2025-01-15T10:39:16.319051Z",
     "start_time": "2025-01-15T10:39:16.313266Z"
    }
   },
   "outputs": [],
   "source": [
    "import matplotlib\n",
    "from matplotlib import rc\n",
    "\n",
    "# Global figure configurations for consistency\n",
    "# Do not override manually without a good reason!\n",
    "\n",
    "matplotlib.rcParams['text.usetex'] = True\n",
    "#matplotlib.rcParams['text.latex.unicode'] = True\n",
    "matplotlib.rcParams['mathtext.fontset'] = 'cm'\n",
    "matplotlib.rcParams['font.family'] = 'serif'\n",
    "matplotlib.rcParams['font.serif'] = 'computer modern roman'\n",
    "matplotlib.rcParams['figure.figsize'] = (10.0, 10.0)\n",
    "matplotlib.rcParams['figure.titlesize'] = 20\n",
    "matplotlib.rcParams['axes.titlesize'] = 20\n",
    "matplotlib.rcParams['axes.labelsize'] = 15\n",
    "matplotlib.rcParams['xtick.labelsize'] = 12\n",
    "matplotlib.rcParams['ytick.labelsize'] = 12\n",
    "matplotlib.rcParams['legend.fontsize'] = 12\n",
    "matplotlib.rcParams['lines.markersize'] = 15\n",
    "matplotlib.rcParams['lines.linewidth'] = 5\n",
    "matplotlib.rcParams['legend.frameon'] = True\n",
    "matplotlib.rcParams['legend.facecolor'] = 'white'\n",
    "matplotlib.rcParams['legend.framealpha'] = 0.8"
   ]
  },
  {
   "cell_type": "markdown",
   "metadata": {},
   "source": [
    "## Introduction\n",
    "\n",
    "This notebook demonstrates the multiobjective optimization of an analytical function using the hypervolume-based probability of improvement function."
   ]
  },
  {
   "cell_type": "code",
   "execution_count": 3,
   "metadata": {
    "ExecuteTime": {
     "end_time": "2025-01-15T10:39:23.664356Z",
     "start_time": "2025-01-15T10:39:23.564100Z"
    }
   },
   "outputs": [
    {
     "ename": "ImportError",
     "evalue": "No module named 'sklearn.__check_build._check_build'\n___________________________________________________________________________\nContents of /Users/yangy16/PycharmProjects/differential-privacy-bayesian-optimization/experiments/output_perturbation/scikit-learn/sklearn/__check_build:\n__init__.py               __pycache__               _check_build.c\nsetup.py                  _check_build.pyx\n___________________________________________________________________________\nIt seems that scikit-learn has not been built correctly.\n\nIf you have installed scikit-learn from source, please do not forget\nto build the package before using it: run `python setup.py install` or\n`make` in the source directory.\n\nIf you have used an installer, please check that it is suited for your\nPython version, your operating system and your platform.",
     "output_type": "error",
     "traceback": [
      "\u001B[0;31m---------------------------------------------------------------------------\u001B[0m",
      "\u001B[0;31mModuleNotFoundError\u001B[0m                       Traceback (most recent call last)",
      "File \u001B[0;32m~/PycharmProjects/differential-privacy-bayesian-optimization/experiments/output_perturbation/scikit-learn/sklearn/__check_build/__init__.py:44\u001B[0m\n\u001B[1;32m     43\u001B[0m \u001B[38;5;28;01mtry\u001B[39;00m:\n\u001B[0;32m---> 44\u001B[0m     \u001B[38;5;28;01mfrom\u001B[39;00m\u001B[38;5;250m \u001B[39m\u001B[38;5;21;01m.\u001B[39;00m\u001B[38;5;21;01m_check_build\u001B[39;00m\u001B[38;5;250m \u001B[39m\u001B[38;5;28;01mimport\u001B[39;00m check_build  \u001B[38;5;66;03m# noqa\u001B[39;00m\n\u001B[1;32m     45\u001B[0m \u001B[38;5;28;01mexcept\u001B[39;00m \u001B[38;5;167;01mImportError\u001B[39;00m \u001B[38;5;28;01mas\u001B[39;00m e:\n",
      "\u001B[0;31mModuleNotFoundError\u001B[0m: No module named 'sklearn.__check_build._check_build'",
      "\nDuring handling of the above exception, another exception occurred:\n",
      "\u001B[0;31mImportError\u001B[0m                               Traceback (most recent call last)",
      "Cell \u001B[0;32mIn[3], line 2\u001B[0m\n\u001B[1;32m      1\u001B[0m \u001B[38;5;28;01mimport\u001B[39;00m\u001B[38;5;250m \u001B[39m\u001B[38;5;21;01mnumpy\u001B[39;00m\u001B[38;5;250m \u001B[39m\u001B[38;5;28;01mas\u001B[39;00m\u001B[38;5;250m \u001B[39m\u001B[38;5;21;01mnp\u001B[39;00m\n\u001B[0;32m----> 2\u001B[0m \u001B[38;5;28;01mimport\u001B[39;00m\u001B[38;5;250m \u001B[39m\u001B[38;5;21;01mpsgd\u001B[39;00m\n",
      "File \u001B[0;32m~/PycharmProjects/differential-privacy-bayesian-optimization/experiments/output_perturbation/scikit-learn/psgd.py:79\u001B[0m\n\u001B[1;32m     74\u001B[0m     \u001B[38;5;28;01mreturn\u001B[39;00m sol\u001B[38;5;241m.\u001B[39mroot\n\u001B[1;32m     77\u001B[0m \u001B[38;5;66;03m# ProjSGDClassifier is an sklearn model that needs to be compiled locally\u001B[39;00m\n\u001B[1;32m     78\u001B[0m \u001B[38;5;66;03m# See README in parent folder\u001B[39;00m\n\u001B[0;32m---> 79\u001B[0m \u001B[38;5;28;01mfrom\u001B[39;00m\u001B[38;5;250m \u001B[39m\u001B[38;5;21;01msklearn\u001B[39;00m\u001B[38;5;21;01m.\u001B[39;00m\u001B[38;5;21;01mlinear_model\u001B[39;00m\u001B[38;5;250m \u001B[39m\u001B[38;5;28;01mimport\u001B[39;00m ProjSGDClassifier\n\u001B[1;32m     82\u001B[0m \u001B[38;5;28;01mdef\u001B[39;00m\u001B[38;5;250m \u001B[39m\u001B[38;5;21mdp_proj_sgd\u001B[39m(Xtrain, Ytrain, Xtest, Ytest, reg_lambda\u001B[38;5;241m=\u001B[39m\u001B[38;5;241m0.001\u001B[39m, sigma\u001B[38;5;241m=\u001B[39m\u001B[38;5;241m0.1\u001B[39m, delta\u001B[38;5;241m=\u001B[39m\u001B[38;5;241m1e-6\u001B[39m, R\u001B[38;5;241m=\u001B[39m\u001B[38;5;241m10\u001B[39m):\n\u001B[1;32m     83\u001B[0m     \u001B[38;5;66;03m# Define the model\u001B[39;00m\n\u001B[1;32m     84\u001B[0m     clf \u001B[38;5;241m=\u001B[39m ProjSGDClassifier(loss\u001B[38;5;241m=\u001B[39m\u001B[38;5;124m\"\u001B[39m\u001B[38;5;124mlog\u001B[39m\u001B[38;5;124m\"\u001B[39m, penalty\u001B[38;5;241m=\u001B[39m\u001B[38;5;124m\"\u001B[39m\u001B[38;5;124ml2\u001B[39m\u001B[38;5;124m\"\u001B[39m,\n\u001B[1;32m     85\u001B[0m                             learning_rate\u001B[38;5;241m=\u001B[39m\u001B[38;5;124m\"\u001B[39m\u001B[38;5;124mbolton\u001B[39m\u001B[38;5;124m\"\u001B[39m,\n\u001B[1;32m     86\u001B[0m                             alpha\u001B[38;5;241m=\u001B[39mreg_lambda,\n\u001B[0;32m   (...)\u001B[0m\n\u001B[1;32m     89\u001B[0m                             verbose\u001B[38;5;241m=\u001B[39m\u001B[38;5;241m0\u001B[39m,\n\u001B[1;32m     90\u001B[0m                             fit_intercept\u001B[38;5;241m=\u001B[39m\u001B[38;5;28;01mFalse\u001B[39;00m)\n",
      "File \u001B[0;32m~/PycharmProjects/differential-privacy-bayesian-optimization/experiments/output_perturbation/scikit-learn/sklearn/__init__.py:75\u001B[0m\n\u001B[1;32m     71\u001B[0m     sys\u001B[38;5;241m.\u001B[39mstderr\u001B[38;5;241m.\u001B[39mwrite(\u001B[38;5;124m'\u001B[39m\u001B[38;5;124mPartial import of sklearn during the build process.\u001B[39m\u001B[38;5;130;01m\\n\u001B[39;00m\u001B[38;5;124m'\u001B[39m)\n\u001B[1;32m     72\u001B[0m     \u001B[38;5;66;03m# We are not importing the rest of scikit-learn during the build\u001B[39;00m\n\u001B[1;32m     73\u001B[0m     \u001B[38;5;66;03m# process, as it may not be compiled yet\u001B[39;00m\n\u001B[1;32m     74\u001B[0m \u001B[38;5;28;01melse\u001B[39;00m:\n\u001B[0;32m---> 75\u001B[0m     \u001B[38;5;28;01mfrom\u001B[39;00m\u001B[38;5;250m \u001B[39m\u001B[38;5;21;01m.\u001B[39;00m\u001B[38;5;250m \u001B[39m\u001B[38;5;28;01mimport\u001B[39;00m __check_build\n\u001B[1;32m     76\u001B[0m     \u001B[38;5;28;01mfrom\u001B[39;00m\u001B[38;5;250m \u001B[39m\u001B[38;5;21;01m.\u001B[39;00m\u001B[38;5;21;01mbase\u001B[39;00m\u001B[38;5;250m \u001B[39m\u001B[38;5;28;01mimport\u001B[39;00m clone\n\u001B[1;32m     77\u001B[0m     \u001B[38;5;28;01mfrom\u001B[39;00m\u001B[38;5;250m \u001B[39m\u001B[38;5;21;01m.\u001B[39;00m\u001B[38;5;21;01mutils\u001B[39;00m\u001B[38;5;21;01m.\u001B[39;00m\u001B[38;5;21;01m_show_versions\u001B[39;00m\u001B[38;5;250m \u001B[39m\u001B[38;5;28;01mimport\u001B[39;00m show_versions\n",
      "File \u001B[0;32m~/PycharmProjects/differential-privacy-bayesian-optimization/experiments/output_perturbation/scikit-learn/sklearn/__check_build/__init__.py:46\u001B[0m\n\u001B[1;32m     44\u001B[0m     \u001B[38;5;28;01mfrom\u001B[39;00m\u001B[38;5;250m \u001B[39m\u001B[38;5;21;01m.\u001B[39;00m\u001B[38;5;21;01m_check_build\u001B[39;00m\u001B[38;5;250m \u001B[39m\u001B[38;5;28;01mimport\u001B[39;00m check_build  \u001B[38;5;66;03m# noqa\u001B[39;00m\n\u001B[1;32m     45\u001B[0m \u001B[38;5;28;01mexcept\u001B[39;00m \u001B[38;5;167;01mImportError\u001B[39;00m \u001B[38;5;28;01mas\u001B[39;00m e:\n\u001B[0;32m---> 46\u001B[0m     \u001B[43mraise_build_error\u001B[49m\u001B[43m(\u001B[49m\u001B[43me\u001B[49m\u001B[43m)\u001B[49m\n",
      "File \u001B[0;32m~/PycharmProjects/differential-privacy-bayesian-optimization/experiments/output_perturbation/scikit-learn/sklearn/__check_build/__init__.py:31\u001B[0m, in \u001B[0;36mraise_build_error\u001B[0;34m(e)\u001B[0m\n\u001B[1;32m     29\u001B[0m         \u001B[38;5;28;01melse\u001B[39;00m:\n\u001B[1;32m     30\u001B[0m             dir_content\u001B[38;5;241m.\u001B[39mappend(filename \u001B[38;5;241m+\u001B[39m \u001B[38;5;124m'\u001B[39m\u001B[38;5;130;01m\\n\u001B[39;00m\u001B[38;5;124m'\u001B[39m)\n\u001B[0;32m---> 31\u001B[0m     \u001B[38;5;28;01mraise\u001B[39;00m \u001B[38;5;167;01mImportError\u001B[39;00m(\u001B[38;5;124m\"\"\"\u001B[39m\u001B[38;5;132;01m%s\u001B[39;00m\n\u001B[1;32m     32\u001B[0m \u001B[38;5;124m___________________________________________________________________________\u001B[39m\n\u001B[1;32m     33\u001B[0m \u001B[38;5;124mContents of \u001B[39m\u001B[38;5;132;01m%s\u001B[39;00m\u001B[38;5;124m:\u001B[39m\n\u001B[1;32m     34\u001B[0m \u001B[38;5;132;01m%s\u001B[39;00m\n\u001B[1;32m     35\u001B[0m \u001B[38;5;124m___________________________________________________________________________\u001B[39m\n\u001B[1;32m     36\u001B[0m \u001B[38;5;124mIt seems that scikit-learn has not been built correctly.\u001B[39m\n\u001B[1;32m     37\u001B[0m \n\u001B[1;32m     38\u001B[0m \u001B[38;5;124mIf you have installed scikit-learn from source, please do not forget\u001B[39m\n\u001B[1;32m     39\u001B[0m \u001B[38;5;124mto build the package before using it: run `python setup.py install` or\u001B[39m\n\u001B[1;32m     40\u001B[0m \u001B[38;5;124m`make` in the source directory.\u001B[39m\n\u001B[1;32m     41\u001B[0m \u001B[38;5;132;01m%s\u001B[39;00m\u001B[38;5;124m\"\"\"\u001B[39m \u001B[38;5;241m%\u001B[39m (e, local_dir, \u001B[38;5;124m'\u001B[39m\u001B[38;5;124m'\u001B[39m\u001B[38;5;241m.\u001B[39mjoin(dir_content)\u001B[38;5;241m.\u001B[39mstrip(), msg))\n",
      "\u001B[0;31mImportError\u001B[0m: No module named 'sklearn.__check_build._check_build'\n___________________________________________________________________________\nContents of /Users/yangy16/PycharmProjects/differential-privacy-bayesian-optimization/experiments/output_perturbation/scikit-learn/sklearn/__check_build:\n__init__.py               __pycache__               _check_build.c\nsetup.py                  _check_build.pyx\n___________________________________________________________________________\nIt seems that scikit-learn has not been built correctly.\n\nIf you have installed scikit-learn from source, please do not forget\nto build the package before using it: run `python setup.py install` or\n`make` in the source directory.\n\nIf you have used an installer, please check that it is suited for your\nPython version, your operating system and your platform."
     ]
    }
   ],
   "source": [
    "import numpy as np\n",
    "import psgd"
   ]
  },
  {
   "cell_type": "code",
   "execution_count": 19,
   "metadata": {},
   "outputs": [],
   "source": [
    "min_l = 0.0001\n",
    "max_l = 1\n",
    "min_s = 0.1\n",
    "max_s = 10\n",
    "\n",
    "size_grid = 55\n",
    "\n",
    "l_range = np.geomspace(min_l, max_l, num=size_grid)\n",
    "s_range = np.geomspace(min_s, max_s, num=size_grid)\n",
    "# l_range = np.linspace(min_l, max_l, num=size_grid)\n",
    "# s_range = np.linspace(min_s, max_s, num=size_grid)"
   ]
  },
  {
   "cell_type": "code",
   "execution_count": 20,
   "metadata": {},
   "outputs": [],
   "source": [
    "# Debugging l and s choices for good epsilon\n",
    "# # print(np.max(eps))\n",
    "# # print(eps)\n",
    "# eps1 = psgd.compute_privacy_with_ranges(l_range, s_range, delta=1e-6)\n",
    "# # print(eps1)\n",
    "# _ = plt.hist(eps1)"
   ]
  },
  {
   "cell_type": "code",
   "execution_count": 21,
   "metadata": {},
   "outputs": [],
   "source": [
    "# # Privacy\n",
    "# plt.imshow(np.log10(np.exp(eps1)), extent=[l_range[0],l_range[-1],s_range[0],s_range[-1]], interpolation='bilinear', aspect='auto')\n",
    "# plt.title('$\\\\log(\\\\varepsilon)$')\n",
    "# plt.ylabel('$\\\\sigma$')\n",
    "# plt.xlabel('$\\\\lambda$')\n",
    "# plt.colorbar()\n",
    "# #plt.plot(input_matrix[pareto_index][:,0],input_matrix[pareto_index][:,1], 'w*',lw=8,markersize=10, label = 'Pareto inputs')\n",
    "# plt.xlim((min_l,max_l))\n",
    "# #plt.legend(loc=3)\n",
    "# plt.ylim((min_s,max_s))"
   ]
  },
  {
   "cell_type": "code",
   "execution_count": 22,
   "metadata": {},
   "outputs": [],
   "source": [
    "# print(l_range)\n",
    "# print(s_range)"
   ]
  },
  {
   "cell_type": "code",
   "execution_count": 23,
   "metadata": {},
   "outputs": [],
   "source": [
    "## uncoment below to load results if they were written before\n",
    "scores0 = np.loadtxt(f'grid_{size_grid}_scores0.txt', dtype=float)\n",
    "eps0 = np.loadtxt(f'grid_{size_grid}_eps0.txt', dtype=float)\n",
    "input_matrix = np.loadtxt(f'grid_{size_grid}_input_matrix.txt', dtype=float)\n",
    "scores_output = np.loadtxt(f'grid_{size_grid}_scores_output.txt', dtype=float)\n",
    "eps_output = np.loadtxt(f'grid_{size_grid}_eps_output.txt', dtype=float)"
   ]
  },
  {
   "cell_type": "code",
   "execution_count": 24,
   "metadata": {},
   "outputs": [],
   "source": [
    "## ground truth\n",
    "## skip if you've read the results from files in the cell above\n",
    "#scores0, eps0, input_matrix, scores_output, eps_output = psgd.compute_outputs_with_ranges(l_range, s_range, R=50)"
   ]
  },
  {
   "cell_type": "code",
   "execution_count": 25,
   "metadata": {},
   "outputs": [],
   "source": [
    "# np.savetxt(f'grid_{size_grid}_scores0.txt', scores0)\n",
    "# np.savetxt(f'grid_{size_grid}_eps0.txt', eps0)\n",
    "# np.savetxt(f'grid_{size_grid}_input_matrix.txt', input_matrix)\n",
    "# np.savetxt(f'grid_{size_grid}_scores_output.txt', scores_output)\n",
    "# np.savetxt(f'grid_{size_grid}_eps_output.txt', eps_output)"
   ]
  },
  {
   "cell_type": "code",
   "execution_count": 26,
   "metadata": {},
   "outputs": [],
   "source": [
    "scores = 1 - scores0\n",
    "eps = np.exp(eps0)"
   ]
  },
  {
   "cell_type": "code",
   "execution_count": 27,
   "metadata": {},
   "outputs": [],
   "source": [
    "data_pareto = np.vstack((scores.flatten(), eps.flatten())).T\n",
    "y_pareto_data, x_pareto_data, pareto_index = psgd.get_pareto_points(data_pareto)"
   ]
  },
  {
   "cell_type": "code",
   "execution_count": 28,
   "metadata": {},
   "outputs": [
    {
     "data": {
      "image/png": "[encoded data removed]",
      "text/plain": [
       "<Figure size 1296x252 with 6 Axes>"
      ]
     },
     "metadata": {
      "needs_background": "light"
     },
     "output_type": "display_data"
    }
   ],
   "source": [
    "single_row = True\n",
    "\n",
    "if single_row:\n",
    "    plt.figure(figsize=(18,3.5))\n",
    "    grid = plt.GridSpec(1, 4, wspace=.3)\n",
    "    positions = iter([grid[0,0], grid[0,1], grid[0,2], grid[0,3]])\n",
    "else:\n",
    "    plt.figure(figsize=(10,10))\n",
    "    grid = plt.GridSpec(2, 2, wspace=.25, hspace=0.3)\n",
    "    positions = iter([grid[0,0], grid[0,1], grid[1,0], grid[1,1]])\n",
    "\n",
    "# Privacy\n",
    "plt.subplot(next(positions))\n",
    "plt.imshow(np.log(eps), extent=[l_range[0],l_range[-1],s_range[0],s_range[-1]], interpolation='bilinear', aspect='auto')\n",
    "plt.title('$\\\\log(\\\\varepsilon)$')\n",
    "plt.ylabel('$\\\\sigma$')\n",
    "plt.xlabel('$\\\\lambda$')\n",
    "plt.colorbar()\n",
    "#plt.plot(input_matrix[pareto_index][:,0],input_matrix[pareto_index][:,1], 'w*',lw=8,markersize=10, label = 'Pareto inputs')\n",
    "plt.xlim((min_l,max_l))\n",
    "#plt.legend(loc=3)\n",
    "plt.ylim((min_s,max_s))\n",
    "\n",
    "# Utility\n",
    "plt.subplot(next(positions))\n",
    "plt.imshow(scores, extent=[l_range[0],l_range[-1],s_range[0],s_range[-1]], aspect='auto')#, interpolation='bilinear')\n",
    "plt.title('Classification Error')\n",
    "plt.ylabel('$\\\\sigma$')\n",
    "plt.xlabel('$\\\\lambda$')\n",
    "\n",
    "plt.xlim((min_l,max_l))\n",
    "plt.colorbar()\n",
    "#plt.legend(loc=3)\n",
    "plt.ylim((min_s,max_s))\n",
    "\n",
    "\n",
    "# True pareto\n",
    "plt.subplot(next(positions))\n",
    "# plt.plot(x_pareto_data, y_pareto_data, 'k-',lw=2, label = 'Empirical Pareto Front')\n",
    "# plt.scatter(x_pareto_data, y_pareto_data,linewidths=2) #,c = 1*input_matrix[pareto_index][:,0])\n",
    "plt.plot(np.log(x_pareto_data), y_pareto_data, 'k-',lw=2, label = 'Empirical Pareto Front')\n",
    "plt.scatter(np.log(x_pareto_data), y_pareto_data,linewidths=2, c = pareto_index.argsort())\n",
    "plt.title('Pareto front')\n",
    "plt.xlabel('$\\\\log(\\\\varepsilon)$')\n",
    "plt.ylabel('Classification Error')\n",
    "#plt.xlim((-0.1,50))\n",
    "plt.ylim((0,0.5))\n",
    "\n",
    "\n",
    "plt.subplot(next(positions))\n",
    "plt.title('Pareto inputs')\n",
    "#plt.ylabel('s',size = AXIS_SIZE)\n",
    "#plt.xlabel('l',size = AXIS_SIZE)\n",
    "#plt.scatter(input_matrix[pareto_index][:,0],input_matrix[pareto_index][:,1], label = 'Pareto inputs') #,c = 1*input_matrix[pareto_index][:,0])\n",
    "#plt.xlim((min_l,max_l))\n",
    "#plt.ylim((min_s,max_s))\n",
    "# plt.scatter(np.log(input_matrix[pareto_index][:,0]),np.log(input_matrix[pareto_index][:,1]), label = 'Pareto inputs') #,c = 1*input_matrix[pareto_index][:,0])\n",
    "plt.scatter(input_matrix[pareto_index][:,0],input_matrix[pareto_index][:,1], label = 'Pareto inputs',c = pareto_index.argsort())\n",
    "# plt.xlim((np.log(min_l),np.log(max_l)))\n",
    "# plt.ylim((np.log(min_s),np.log(max_s)))\n",
    "plt.ylabel('$\\\\sigma$')\n",
    "plt.xlabel('$\\\\lambda$')\n",
    "#plt.colorbar()\n",
    "#plt.legend(loc=3)\n",
    "\n",
    "plt.savefig('psgd_exact.pdf', bbox_inches='tight')"
   ]
  },
  {
   "cell_type": "code",
   "execution_count": null,
   "metadata": {},
   "outputs": [],
   "source": [
    "#import GPyOpt\n",
    "import gpflow\n",
    "import gpflowopt"
   ]
  },
  {
   "cell_type": "code",
   "execution_count": null,
   "metadata": {},
   "outputs": [],
   "source": [
    "# Setup input domain\n",
    "domain = gpflowopt.domain.ContinuousParameter('L', min_l, max_l) + \\\n",
    "         gpflowopt.domain.ContinuousParameter('S', min_s, max_s)"
   ]
  },
  {
   "cell_type": "code",
   "execution_count": null,
   "metadata": {},
   "outputs": [],
   "source": [
    "num_samples = 250\n",
    "\n",
    "np.random.seed(12)\n",
    "idx = np.random.randint(len(scores_output), size=num_samples) \n",
    "\n",
    "X = input_matrix[idx,:]\n",
    "Y_eps = eps_output[idx,:]\n",
    "Y_scores = scores_output[idx,:]\n",
    "Y = np.hstack((Y_scores,Y_eps))"
   ]
  },
  {
   "cell_type": "code",
   "execution_count": null,
   "metadata": {},
   "outputs": [],
   "source": [
    "x_pareto_data_empirical, y_pareto_data_empirical, pareto_index = psgd.get_pareto_points(Y)"
   ]
  },
  {
   "cell_type": "code",
   "execution_count": null,
   "metadata": {},
   "outputs": [],
   "source": [
    "# Training the models\n",
    "objective_models = [gpflow.gpr.GPR(X.copy(), Y[:,[i]].copy(), gpflow.kernels.Matern52(2, ARD=False)) for i in range(Y.shape[1])]\n",
    "for model in objective_models:\n",
    "    model.likelihood.variance = 0.1\n",
    "    model.optimize()\n",
    "\n",
    "hvpoi = gpflowopt.acquisition.HVProbabilityOfImprovement(objective_models)"
   ]
  },
  {
   "cell_type": "code",
   "execution_count": null,
   "metadata": {},
   "outputs": [],
   "source": [
    "## We make the predictions with the models\n",
    "\n",
    "scores_predicted, eps_predicted, _, _, _ = psgd.predict_outputs_with_ranges(l_range, s_range, objective_models[0], objective_models[1] )\n",
    "\n",
    "## evaluate the hhvpoi in the grid\n",
    "hvpoi_matrix = np.zeros((len(l_range), len(s_range)))\n",
    "input_matrix  = np.zeros((len(l_range)*len(s_range),2))\n",
    "\n",
    "for i in range(len(l_range)):\n",
    "    for j in range(len(s_range)):\n",
    "        ## input \n",
    "        index = i*len(s_range)+ j\n",
    "        input_matrix[index,0] =  l_range[i]\n",
    "        input_matrix[index,1] =  s_range[j]      \n",
    "        hvpoi_matrix[i,j] = hvpoi.evaluate(input_matrix[index,None])[0,0]\n"
   ]
  },
  {
   "cell_type": "code",
   "execution_count": null,
   "metadata": {},
   "outputs": [],
   "source": [
    "single_row = True\n",
    "\n",
    "if single_row:\n",
    "    plt.figure(figsize=(18,3.5))\n",
    "    grid = plt.GridSpec(1, 4, wspace=.3)\n",
    "    positions = iter([grid[0,0], grid[0,1], grid[0,2], grid[0,3]])\n",
    "else:\n",
    "    plt.figure(figsize=(10,10))\n",
    "    grid = plt.GridSpec(2, 2, wspace=.25, hspace=0.3)\n",
    "    positions = iter([grid[0,0], grid[0,1], grid[1,0], grid[1,1]])\n",
    "\n",
    "# Privacy\n",
    "plt.subplot(next(positions))\n",
    "plt.imshow(eps_predicted, extent=[l_range[0],l_range[-1],s_range[0],s_range[-1]], interpolation='bilinear', aspect='auto')\n",
    "plt.title('Predicted epsilon')\n",
    "plt.ylabel('s')\n",
    "plt.xlabel('l')\n",
    "plt.plot(X[:,0],X[:,1],'w.',markersize=10,label = 'Observations')\n",
    "plt.colorbar()\n",
    "plt.xlim((min_l,max_l))\n",
    "plt.ylim((min_s,max_s))\n",
    "plt.legend()\n",
    "\n",
    "# Utility\n",
    "plt.subplot(next(positions))\n",
    "plt.imshow(scores_predicted, extent=[l_range[0],l_range[-1],s_range[0],s_range[-1]], interpolation='bilinear', aspect='auto')\n",
    "plt.plot(X[:,0],X[:,1],'w.',markersize=10,label = 'Observations')\n",
    "\n",
    "plt.title('Predicted utility')\n",
    "plt.ylabel('s')\n",
    "plt.xlabel('l')\n",
    "plt.colorbar()\n",
    "plt.xlim((min_l,max_l))\n",
    "plt.ylim((min_s,max_s))\n",
    "plt.legend()\n",
    "\n",
    "# True pareto\n",
    "plt.subplot(next(positions))\n",
    "plt.plot(x_pareto_data, y_pareto_data, 'r--',lw=3, label = 'True Pareto')\n",
    "plt.plot(x_pareto_data_empirical, y_pareto_data_empirical, 'k-', label = 'Empirical')\n",
    "plt.fill_between(x_pareto_data_empirical,0,y_pareto_data_empirical ,facecolor='black', alpha=0.1,label='Non dominated set')\n",
    "plt.plot(Y[:,0],Y[:,1],'b.', label = 'Observation outputs',markersize=10)\n",
    "plt.title('Pareto front')\n",
    "plt.xlabel('Utility')\n",
    "plt.ylabel('Epsilon')\n",
    "plt.xlim((min_l,max_l))\n",
    "plt.ylim((min_s,max_s))\n",
    "plt.legend(loc=3)\n",
    "plt.savefig('psgd_exact.pdf', bbox_inches='tight')\n",
    "\n",
    "\n",
    "# Utility\n",
    "plt.subplot(next(positions))\n",
    "plt.imshow(hvpoi_matrix, extent=[l_range[0],l_range[-1],s_range[0],s_range[-1]], interpolation='bilinear', aspect='auto')\n",
    "\n",
    "plt.title('HVPoI')\n",
    "plt.ylabel('s')\n",
    "plt.xlabel('l')\n",
    "plt.colorbar()\n",
    "plt.xlim((min_l,max_l))\n",
    "plt.ylim((min_s,max_s))\n",
    "plt.plot(np.array([13]),np.array([17.5]),'rx',markersize=10, lw=5, label = 'Next location')\n",
    "plt.legend(loc=3)\n",
    "\n",
    "plt.savefig('psgd_predictions.pdf', bbox_inches='tight')"
   ]
  },
  {
   "cell_type": "code",
   "execution_count": null,
   "metadata": {},
   "outputs": [],
   "source": []
  }
 ],
 "metadata": {
  "kernelspec": {
   "display_name": "Python 3",
   "language": "python",
   "name": "python3"
  },
  "language_info": {
   "codemirror_mode": {
    "name": "ipython",
    "version": 3
   },
   "file_extension": ".py",
   "mimetype": "text/x-python",
   "name": "python",
   "nbconvert_exporter": "python",
   "pygments_lexer": "ipython3",
   "version": "3.6.9"
  }
 },
 "nbformat": 4,
 "nbformat_minor": 1
}
